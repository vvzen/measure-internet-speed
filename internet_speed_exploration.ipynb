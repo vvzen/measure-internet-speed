{
 "cells": [
  {
   "cell_type": "code",
   "execution_count": 11,
   "id": "2c591a26",
   "metadata": {},
   "outputs": [],
   "source": [
    "import datetime\n",
    "\n",
    "import pandas as pd\n",
    "import numpy as np\n",
    "import matplotlib.pyplot as plt"
   ]
  },
  {
   "cell_type": "code",
   "execution_count": 12,
   "id": "bc3ea316",
   "metadata": {},
   "outputs": [
    {
     "data": {
      "text/html": [
       "<div>\n",
       "<style scoped>\n",
       "    .dataframe tbody tr th:only-of-type {\n",
       "        vertical-align: middle;\n",
       "    }\n",
       "\n",
       "    .dataframe tbody tr th {\n",
       "        vertical-align: top;\n",
       "    }\n",
       "\n",
       "    .dataframe thead th {\n",
       "        text-align: right;\n",
       "    }\n",
       "</style>\n",
       "<table border=\"1\" class=\"dataframe\">\n",
       "  <thead>\n",
       "    <tr style=\"text-align: right;\">\n",
       "      <th></th>\n",
       "      <th>Server ID</th>\n",
       "      <th>Sponsor</th>\n",
       "      <th>Server Name</th>\n",
       "      <th>Distance</th>\n",
       "      <th>Ping</th>\n",
       "      <th>Download</th>\n",
       "      <th>Upload</th>\n",
       "      <th>IP Address</th>\n",
       "      <th>Download (Megabits)</th>\n",
       "      <th>Upload (Megabits)</th>\n",
       "    </tr>\n",
       "    <tr>\n",
       "      <th>Timestamp</th>\n",
       "      <th></th>\n",
       "      <th></th>\n",
       "      <th></th>\n",
       "      <th></th>\n",
       "      <th></th>\n",
       "      <th></th>\n",
       "      <th></th>\n",
       "      <th></th>\n",
       "      <th></th>\n",
       "      <th></th>\n",
       "    </tr>\n",
       "  </thead>\n",
       "  <tbody>\n",
       "    <tr>\n",
       "      <th>2021-06-26 10:37:56.936590</th>\n",
       "      <td>30690</td>\n",
       "      <td>Community Fibre Limited</td>\n",
       "      <td>London</td>\n",
       "      <td>2.56029</td>\n",
       "      <td>18.517</td>\n",
       "      <td>1.186347e+08</td>\n",
       "      <td>4.112027e+07</td>\n",
       "      <td>185.69.145.146</td>\n",
       "      <td>118.634709</td>\n",
       "      <td>41.120266</td>\n",
       "    </tr>\n",
       "  </tbody>\n",
       "</table>\n",
       "</div>"
      ],
      "text/plain": [
       "                            Server ID                  Sponsor Server Name  \\\n",
       "Timestamp                                                                    \n",
       "2021-06-26 10:37:56.936590      30690  Community Fibre Limited      London   \n",
       "\n",
       "                            Distance    Ping      Download        Upload  \\\n",
       "Timestamp                                                                  \n",
       "2021-06-26 10:37:56.936590   2.56029  18.517  1.186347e+08  4.112027e+07   \n",
       "\n",
       "                                IP Address  Download (Megabits)  \\\n",
       "Timestamp                                                         \n",
       "2021-06-26 10:37:56.936590  185.69.145.146           118.634709   \n",
       "\n",
       "                            Upload (Megabits)  \n",
       "Timestamp                                      \n",
       "2021-06-26 10:37:56.936590          41.120266  "
      ]
     },
     "execution_count": 12,
     "metadata": {},
     "output_type": "execute_result"
    }
   ],
   "source": [
    "todays_csv_name = \"speed_test_monitor_%s.csv\" % datetime.datetime.strftime(datetime.datetime.now(), \"%d_%m_%Y\")\n",
    "speed_tests_df = pd.read_csv(todays_csv_name)\n",
    "\n",
    "# Set types\n",
    "speed_tests_df[\"Download\"].astype(np.float16)\n",
    "speed_tests_df[\"Upload\"].astype(np.float16)\n",
    "del speed_tests_df[\"Share\"]\n",
    "\n",
    "# Data cleanup\n",
    "speed_tests_df['Download (Megabits)'] = speed_tests_df['Download'] / 10**6\n",
    "speed_tests_df['Upload (Megabits)'] = speed_tests_df['Upload'] / 10**6\n",
    "speed_tests_df[\"Timestamp\"] = pd.to_datetime(speed_tests_df[\"Timestamp\"])\n",
    "speed_tests_df = speed_tests_df.set_index(\"Timestamp\")\n",
    "speed_tests_df.sort_index()"
   ]
  },
  {
   "cell_type": "code",
   "execution_count": 13,
   "id": "de284b74",
   "metadata": {},
   "outputs": [
    {
     "data": {
      "text/html": [
       "<div>\n",
       "<style scoped>\n",
       "    .dataframe tbody tr th:only-of-type {\n",
       "        vertical-align: middle;\n",
       "    }\n",
       "\n",
       "    .dataframe tbody tr th {\n",
       "        vertical-align: top;\n",
       "    }\n",
       "\n",
       "    .dataframe thead th {\n",
       "        text-align: right;\n",
       "    }\n",
       "</style>\n",
       "<table border=\"1\" class=\"dataframe\">\n",
       "  <thead>\n",
       "    <tr style=\"text-align: right;\">\n",
       "      <th></th>\n",
       "      <th>Server ID</th>\n",
       "      <th>Sponsor</th>\n",
       "      <th>Server Name</th>\n",
       "      <th>Distance</th>\n",
       "      <th>Ping</th>\n",
       "      <th>Download</th>\n",
       "      <th>Upload</th>\n",
       "      <th>IP Address</th>\n",
       "      <th>Download (Megabits)</th>\n",
       "      <th>Upload (Megabits)</th>\n",
       "    </tr>\n",
       "    <tr>\n",
       "      <th>Timestamp</th>\n",
       "      <th></th>\n",
       "      <th></th>\n",
       "      <th></th>\n",
       "      <th></th>\n",
       "      <th></th>\n",
       "      <th></th>\n",
       "      <th></th>\n",
       "      <th></th>\n",
       "      <th></th>\n",
       "      <th></th>\n",
       "    </tr>\n",
       "  </thead>\n",
       "  <tbody>\n",
       "    <tr>\n",
       "      <th>2021-06-26 10:37:56.936590</th>\n",
       "      <td>30690</td>\n",
       "      <td>Community Fibre Limited</td>\n",
       "      <td>London</td>\n",
       "      <td>2.56029</td>\n",
       "      <td>18.517</td>\n",
       "      <td>1.186347e+08</td>\n",
       "      <td>4.112027e+07</td>\n",
       "      <td>185.69.145.146</td>\n",
       "      <td>118.634709</td>\n",
       "      <td>41.120266</td>\n",
       "    </tr>\n",
       "  </tbody>\n",
       "</table>\n",
       "</div>"
      ],
      "text/plain": [
       "                            Server ID                  Sponsor Server Name  \\\n",
       "Timestamp                                                                    \n",
       "2021-06-26 10:37:56.936590      30690  Community Fibre Limited      London   \n",
       "\n",
       "                            Distance    Ping      Download        Upload  \\\n",
       "Timestamp                                                                  \n",
       "2021-06-26 10:37:56.936590   2.56029  18.517  1.186347e+08  4.112027e+07   \n",
       "\n",
       "                                IP Address  Download (Megabits)  \\\n",
       "Timestamp                                                         \n",
       "2021-06-26 10:37:56.936590  185.69.145.146           118.634709   \n",
       "\n",
       "                            Upload (Megabits)  \n",
       "Timestamp                                      \n",
       "2021-06-26 10:37:56.936590          41.120266  "
      ]
     },
     "execution_count": 13,
     "metadata": {},
     "output_type": "execute_result"
    }
   ],
   "source": [
    "speed_tests_df.head()"
   ]
  },
  {
   "cell_type": "code",
   "execution_count": 14,
   "id": "1929c214",
   "metadata": {},
   "outputs": [
    {
     "data": {
      "text/html": [
       "<div>\n",
       "<style scoped>\n",
       "    .dataframe tbody tr th:only-of-type {\n",
       "        vertical-align: middle;\n",
       "    }\n",
       "\n",
       "    .dataframe tbody tr th {\n",
       "        vertical-align: top;\n",
       "    }\n",
       "\n",
       "    .dataframe thead th {\n",
       "        text-align: right;\n",
       "    }\n",
       "</style>\n",
       "<table border=\"1\" class=\"dataframe\">\n",
       "  <thead>\n",
       "    <tr style=\"text-align: right;\">\n",
       "      <th></th>\n",
       "      <th>Server ID</th>\n",
       "      <th>Sponsor</th>\n",
       "      <th>Server Name</th>\n",
       "      <th>Distance</th>\n",
       "      <th>Ping</th>\n",
       "      <th>Download</th>\n",
       "      <th>Upload</th>\n",
       "      <th>IP Address</th>\n",
       "      <th>Download (Megabits)</th>\n",
       "      <th>Upload (Megabits)</th>\n",
       "    </tr>\n",
       "    <tr>\n",
       "      <th>Timestamp</th>\n",
       "      <th></th>\n",
       "      <th></th>\n",
       "      <th></th>\n",
       "      <th></th>\n",
       "      <th></th>\n",
       "      <th></th>\n",
       "      <th></th>\n",
       "      <th></th>\n",
       "      <th></th>\n",
       "      <th></th>\n",
       "    </tr>\n",
       "  </thead>\n",
       "  <tbody>\n",
       "    <tr>\n",
       "      <th>2021-06-26 10:37:56.936590</th>\n",
       "      <td>30690</td>\n",
       "      <td>Community Fibre Limited</td>\n",
       "      <td>London</td>\n",
       "      <td>2.56029</td>\n",
       "      <td>18.517</td>\n",
       "      <td>1.186347e+08</td>\n",
       "      <td>4.112027e+07</td>\n",
       "      <td>185.69.145.146</td>\n",
       "      <td>118.634709</td>\n",
       "      <td>41.120266</td>\n",
       "    </tr>\n",
       "  </tbody>\n",
       "</table>\n",
       "</div>"
      ],
      "text/plain": [
       "                            Server ID                  Sponsor Server Name  \\\n",
       "Timestamp                                                                    \n",
       "2021-06-26 10:37:56.936590      30690  Community Fibre Limited      London   \n",
       "\n",
       "                            Distance    Ping      Download        Upload  \\\n",
       "Timestamp                                                                  \n",
       "2021-06-26 10:37:56.936590   2.56029  18.517  1.186347e+08  4.112027e+07   \n",
       "\n",
       "                                IP Address  Download (Megabits)  \\\n",
       "Timestamp                                                         \n",
       "2021-06-26 10:37:56.936590  185.69.145.146           118.634709   \n",
       "\n",
       "                            Upload (Megabits)  \n",
       "Timestamp                                      \n",
       "2021-06-26 10:37:56.936590          41.120266  "
      ]
     },
     "execution_count": 14,
     "metadata": {},
     "output_type": "execute_result"
    }
   ],
   "source": [
    "speed_tests_df.tail()"
   ]
  },
  {
   "cell_type": "code",
   "execution_count": 15,
   "id": "86346be0",
   "metadata": {},
   "outputs": [],
   "source": [
    "now = datetime.datetime.now()\n",
    "today_as_str = datetime.datetime.strftime(now, \"%d-%m-%Y\")\n",
    "#start = now - datetime.timedelta(hours=24)\n",
    "#end = now + datetime.timedelta(hours=2)\n",
    "\n",
    "start = speed_tests_df.index[0]\n",
    "end = speed_tests_df.index[-1]"
   ]
  },
  {
   "cell_type": "code",
   "execution_count": 16,
   "id": "c9d03301",
   "metadata": {},
   "outputs": [
    {
     "name": "stderr",
     "output_type": "stream",
     "text": [
      "/Users/vvzen/miniconda3/envs/hacks3/lib/python3.5/site-packages/ipykernel_launcher.py:11: UserWarning: Attempting to set identical left==right results\n",
      "in singular transformations; automatically expanding.\n",
      "left=737967.4430200994, right=737967.4430200994\n",
      "  # This is added back by InteractiveShellApp.init_path()\n"
     ]
    },
    {
     "data": {
      "image/png": "[encoded data removed]",
      "text/plain": [
       "<Figure size 1296x216 with 1 Axes>"
      ]
     },
     "metadata": {
      "needs_background": "light"
     },
     "output_type": "display_data"
    }
   ],
   "source": [
    "fig, ax = plt.subplots()\n",
    "plt.plot(speed_tests_df[\"Download (Megabits)\"])\n",
    "plt.plot(speed_tests_df[\"Upload (Megabits)\"])\n",
    "\n",
    "plt.rcParams[\"figure.figsize\"] = (18,3)\n",
    "plt.xticks(rotation=30)\n",
    "\n",
    "ax.legend([\"Download\", \"Upload\"])\n",
    "\n",
    "ax.set_ylabel(\"Speed (Mbs)\")\n",
    "ax.set_xlim(start, end)\n",
    "\n",
    "img_name = \"upload_download_speed_{0}.jpg\".format(today_as_str)\n",
    "plt.savefig(img_name)\n",
    "\n",
    "plt.show()"
   ]
  },
  {
   "cell_type": "code",
   "execution_count": 17,
   "id": "cab7c4ae",
   "metadata": {},
   "outputs": [
    {
     "name": "stderr",
     "output_type": "stream",
     "text": [
      "/Users/vvzen/miniconda3/envs/hacks3/lib/python3.5/site-packages/ipykernel_launcher.py:10: UserWarning: Attempting to set identical left==right results\n",
      "in singular transformations; automatically expanding.\n",
      "left=737967.4430200994, right=737967.4430200994\n",
      "  # Remove the CWD from sys.path while we load stuff.\n"
     ]
    },
    {
     "data": {
      "image/png": "[encoded data removed]",
      "text/plain": [
       "<Figure size 1296x216 with 1 Axes>"
      ]
     },
     "metadata": {
      "needs_background": "light"
     },
     "output_type": "display_data"
    }
   ],
   "source": [
    "fig, ax = plt.subplots()\n",
    "plt.plot(speed_tests_df[\"Ping\"], color=\"g\")\n",
    "\n",
    "plt.rcParams[\"figure.figsize\"] = (18,3)\n",
    "plt.xticks(rotation=30)\n",
    "\n",
    "ax.legend([\"Ping\"])\n",
    "\n",
    "ax.set_ylabel(\"Ms\")\n",
    "ax.set_xlim(start, end)\n",
    "\n",
    "img_name = \"ping_latency_{0}.jpg\".format(today_as_str)\n",
    "plt.savefig(img_name)\n",
    "\n",
    "plt.show()"
   ]
  },
  {
   "cell_type": "code",
   "execution_count": null,
   "id": "ab6d6860",
   "metadata": {},
   "outputs": [],
   "source": []
  },
  {
   "cell_type": "code",
   "execution_count": null,
   "id": "584ee750",
   "metadata": {},
   "outputs": [],
   "source": []
  }
 ],
 "metadata": {
  "kernelspec": {
   "display_name": "Python 3",
   "language": "python",
   "name": "python3"
  },
  "language_info": {
   "codemirror_mode": {
    "name": "ipython",
    "version": 3
   },
   "file_extension": ".py",
   "mimetype": "text/x-python",
   "name": "python",
   "nbconvert_exporter": "python",
   "pygments_lexer": "ipython3",
   "version": "3.5.6"
  }
 },
 "nbformat": 4,
 "nbformat_minor": 5
}
