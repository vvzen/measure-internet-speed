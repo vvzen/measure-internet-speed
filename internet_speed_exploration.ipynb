{
 "cells": [
  {
   "cell_type": "code",
   "execution_count": null,
   "id": "8bd65a00",
   "metadata": {},
   "outputs": [],
   "source": [
    "import datetime\n",
    "from pathlib import Path\n",
    "\n",
    "import pandas as pd\n",
    "import numpy as np\n",
    "import matplotlib.pyplot as plt"
   ]
  },
  {
   "cell_type": "code",
   "execution_count": null,
   "id": "13992d38",
   "metadata": {},
   "outputs": [],
   "source": [
    "todays_csv_name = \"speed_test_monitor_%s.csv\" % datetime.datetime.strftime(datetime.datetime.now(), \"%d_%m_%Y\")\n",
    "speed_tests_df = pd.read_csv(Path(\"data\") / todays_csv_name)\n",
    "\n",
    "# Enforce types\n",
    "speed_tests_df[\"Download\"].astype(np.float16)\n",
    "speed_tests_df[\"Upload\"].astype(np.float16)\n",
    "speed_tests_df[\"Timestamp\"] = pd.to_datetime(speed_tests_df[\"Timestamp\"])\n",
    "\n",
    "# Other data Prep/Cleanup\n",
    "del speed_tests_df[\"Share\"]\n",
    "speed_tests_df['Download (Megabits)'] = speed_tests_df['Download'] / 10**6\n",
    "speed_tests_df['Upload (Megabits)'] = speed_tests_df['Upload'] / 10**6\n",
    "speed_tests_df = speed_tests_df.set_index(\"Timestamp\")\n",
    "speed_tests_df.sort_index()"
   ]
  },
  {
   "cell_type": "code",
   "execution_count": null,
   "id": "7d0fc006",
   "metadata": {},
   "outputs": [],
   "source": [
    "speed_tests_df.head()"
   ]
  },
  {
   "cell_type": "code",
   "execution_count": null,
   "id": "e5dfabd7",
   "metadata": {},
   "outputs": [],
   "source": [
    "speed_tests_df.tail()"
   ]
  },
  {
   "cell_type": "code",
   "execution_count": null,
   "id": "3eb170e5",
   "metadata": {},
   "outputs": [],
   "source": [
    "now = datetime.datetime.now()\n",
    "today_as_str = datetime.datetime.strftime(now, \"%d-%m-%Y\")\n",
    "\n",
    "start = speed_tests_df.index[0]\n",
    "end = speed_tests_df.index[-1]"
   ]
  },
  {
   "cell_type": "code",
   "execution_count": null,
   "id": "b746074b",
   "metadata": {},
   "outputs": [],
   "source": [
    "img_dir = Path(\"images\")\n",
    "img_dir.mkdir(exist_ok=True)"
   ]
  },
  {
   "cell_type": "code",
   "execution_count": null,
   "id": "204e0295",
   "metadata": {},
   "outputs": [],
   "source": [
    "fig, ax = plt.subplots()\n",
    "plt.plot(speed_tests_df[\"Download (Megabits)\"])\n",
    "plt.plot(speed_tests_df[\"Upload (Megabits)\"])\n",
    "\n",
    "plt.rcParams[\"figure.figsize\"] = (18,3)\n",
    "plt.xticks(rotation=30)\n",
    "\n",
    "ax.legend([\"Download\", \"Upload\"])\n",
    "\n",
    "ax.set_ylabel(\"Speed (Mbs)\")\n",
    "ax.set_xlim(start, end)\n",
    "\n",
    "img_name = \"upload_download_speed_{0}.jpg\".format(today_as_str)\n",
    "plt.savefig(str(img_dir / img_name)) # good old matplotlib https://github.com/matplotlib/matplotlib/issues/5968/\n",
    "\n",
    "plt.show()"
   ]
  },
  {
   "cell_type": "code",
   "execution_count": null,
   "id": "7e7b9622",
   "metadata": {},
   "outputs": [],
   "source": [
    "fig, ax = plt.subplots()\n",
    "plt.plot(speed_tests_df[\"Ping\"], color=\"g\")\n",
    "\n",
    "plt.rcParams[\"figure.figsize\"] = (18,3)\n",
    "plt.xticks(rotation=30)\n",
    "\n",
    "ax.legend([\"Ping\"])\n",
    "\n",
    "ax.set_ylabel(\"Ms\")\n",
    "ax.set_xlim(start, end)\n",
    "\n",
    "img_name = \"ping_latency_{0}.jpg\".format(today_as_str)\n",
    "plt.savefig(str(img_dir / img_name))\n",
    "\n",
    "plt.show()"
   ]
  },
  {
   "cell_type": "code",
   "execution_count": null,
   "id": "99aef851",
   "metadata": {},
   "outputs": [],
   "source": []
  },
  {
   "cell_type": "code",
   "execution_count": null,
   "id": "4331ba92",
   "metadata": {},
   "outputs": [],
   "source": []
  }
 ],
 "metadata": {
  "interpreter": {
   "hash": "6a018daf4f22a27a8296fd2eb8b2a0c29b8bf25c167c2ca1ed6203b5be47b381"
  },
  "kernelspec": {
   "display_name": "Python 3",
   "language": "python",
   "name": "python3"
  },
  "language_info": {
   "codemirror_mode": {
    "name": "ipython",
    "version": 3
   },
   "file_extension": ".py",
   "mimetype": "text/x-python",
   "name": "python",
   "nbconvert_exporter": "python",
   "pygments_lexer": "ipython3",
   "version": "3.5.6"
  }
 },
 "nbformat": 4,
 "nbformat_minor": 5
}
